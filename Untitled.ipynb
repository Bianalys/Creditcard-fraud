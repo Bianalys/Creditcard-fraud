{
 "cells": [
  {
   "cell_type": "code",
   "execution_count": 1,
   "id": "27cd2ab9-090b-4756-a7fe-caa06f79015b",
   "metadata": {},
   "outputs": [],
   "source": [
    "import pandas as pd "
   ]
  },
  {
   "cell_type": "code",
   "execution_count": 3,
   "id": "6ad4734e-f6e2-45ae-ad52-467f490cbae9",
   "metadata": {},
   "outputs": [],
   "source": [
    "cc=pd.read_csv(\"credit_card.csv\")\n",
    "cc_ad=pd.read_csv(\"cc_add.csv\")"
   ]
  },
  {
   "cell_type": "code",
   "execution_count": 4,
   "id": "2ac6d553-c7b8-4779-9a87-6489e5381379",
   "metadata": {},
   "outputs": [
    {
     "data": {
      "text/plain": [
       "Index(['Client_Num', 'Card_Category', 'Annual_Fees', 'Activation_30_Days',\n",
       "       'Customer_Acq_Cost', 'Week_Start_Date', 'Week_Num', 'Qtr',\n",
       "       'current_year', 'Credit_Limit', 'Total_Revolving_Bal',\n",
       "       'Total_Trans_Amt', 'Total_Trans_Vol', 'Avg_Utilization_Ratio',\n",
       "       'Use Chip', 'Exp Type', 'Interest_Earned', 'Delinquent_Acc'],\n",
       "      dtype='object')"
      ]
     },
     "execution_count": 4,
     "metadata": {},
     "output_type": "execute_result"
    }
   ],
   "source": [
    "cc.columns"
   ]
  },
  {
   "cell_type": "code",
   "execution_count": 13,
   "id": "950f2a37-560a-4746-8414-922d33518044",
   "metadata": {},
   "outputs": [],
   "source": [
    "cc[\"dat\"]=[i[:2] for i in  cc[\"Week_Start_Date\"]]\n",
    "cc[\"mon\"]=[i[3:5] for i in  cc[\"Week_Start_Date\"]]\n",
    "cc[\"year\"]=[i[-4:] for i in  cc[\"Week_Start_Date\"]]"
   ]
  },
  {
   "cell_type": "code",
   "execution_count": 14,
   "id": "a48addcb-7fbb-47e8-b47b-86cc5d220329",
   "metadata": {},
   "outputs": [],
   "source": [
    "cc[\"Week_Start_Date\"]=cc[\"mon\"]+\"-\"+cc[\"dat\"]+\"-\"+cc[\"year\"]"
   ]
  },
  {
   "cell_type": "code",
   "execution_count": 17,
   "id": "ae7a0c05-a082-4c35-ac1b-ddd6f9b6e3c5",
   "metadata": {},
   "outputs": [],
   "source": [
    "cc[\"Week_Start_Date\"]=pd.to_datetime(cc[\"Week_Start_Date\"])"
   ]
  },
  {
   "cell_type": "code",
   "execution_count": 18,
   "id": "c82b0455-fc67-4584-a764-4f862e88936b",
   "metadata": {},
   "outputs": [
    {
     "data": {
      "text/plain": [
       "0       2023-01-01\n",
       "1       2023-01-01\n",
       "2       2023-01-01\n",
       "3       2023-01-01\n",
       "4       2023-01-01\n",
       "           ...    \n",
       "10103   2023-12-24\n",
       "10104   2023-12-24\n",
       "10105   2023-12-24\n",
       "10106   2023-12-24\n",
       "10107   2023-12-24\n",
       "Name: Week_Start_Date, Length: 10108, dtype: datetime64[ns]"
      ]
     },
     "execution_count": 18,
     "metadata": {},
     "output_type": "execute_result"
    }
   ],
   "source": [
    "cc[\"Week_Start_Date\"]"
   ]
  },
  {
   "cell_type": "code",
   "execution_count": 19,
   "id": "cabc024f-2f60-4af3-abe9-a947ebd50fde",
   "metadata": {},
   "outputs": [],
   "source": [
    "cc_ad[\"dat\"]=[i[:2] for i in  cc_ad[\"Week_Start_Date\"]]\n",
    "cc_ad[\"mon\"]=[i[3:5] for i in  cc_ad[\"Week_Start_Date\"]]\n",
    "cc_ad[\"year\"]=[i[-4:] for i in  cc_ad[\"Week_Start_Date\"]]\n",
    "cc_ad[\"Week_Start_Date\"]=cc_ad[\"mon\"]+\"-\"+cc_ad[\"dat\"]+\"-\"+cc_ad[\"year\"]\n",
    "cc_ad[\"Week_Start_Date\"]=pd.to_datetime(cc_ad[\"Week_Start_Date\"])"
   ]
  },
  {
   "cell_type": "code",
   "execution_count": 23,
   "id": "be59cc48-1fa2-4aaa-bbe5-cb35d0983cf1",
   "metadata": {},
   "outputs": [
    {
     "data": {
      "text/plain": [
       "Unnamed: 0                        int64\n",
       "Client_Num                        int64\n",
       "Card_Category                    object\n",
       "Annual_Fees                       int64\n",
       "Activation_30_Days                int64\n",
       "Customer_Acq_Cost                 int64\n",
       "Week_Start_Date          datetime64[ns]\n",
       "Week_Num                         object\n",
       "Qtr                              object\n",
       "current_year                      int64\n",
       "Credit_Limit                    float64\n",
       "Total_Revolving_Bal               int64\n",
       "Total_Trans_Amt                   int64\n",
       "Total_Trans_Ct                    int64\n",
       "Avg_Utilization_Ratio           float64\n",
       "Use Chip                         object\n",
       "Exp Type                         object\n",
       "Interest_Earned                 float64\n",
       "Delinquent_Acc                    int64\n",
       "date                              int64\n",
       "mon                              object\n",
       "year                             object\n",
       "Date                             object\n",
       "dat                              object\n",
       "dtype: object"
      ]
     },
     "execution_count": 23,
     "metadata": {},
     "output_type": "execute_result"
    }
   ],
   "source": [
    "cc_ad.dtypes"
   ]
  },
  {
   "cell_type": "code",
   "execution_count": 24,
   "id": "84fac24a-29a4-4227-9f9e-7f4384ac6feb",
   "metadata": {},
   "outputs": [],
   "source": [
    "cc.to_csv(\"CC.csv\")\n",
    "cc_ad.to_csv(\"CC_ad2.csv\")"
   ]
  },
  {
   "cell_type": "code",
   "execution_count": null,
   "id": "be381d30-339d-44c1-94f6-82831d38d13a",
   "metadata": {},
   "outputs": [],
   "source": []
  }
 ],
 "metadata": {
  "kernelspec": {
   "display_name": "Python 3 (ipykernel)",
   "language": "python",
   "name": "python3"
  },
  "language_info": {
   "codemirror_mode": {
    "name": "ipython",
    "version": 3
   },
   "file_extension": ".py",
   "mimetype": "text/x-python",
   "name": "python",
   "nbconvert_exporter": "python",
   "pygments_lexer": "ipython3",
   "version": "3.12.2"
  }
 },
 "nbformat": 4,
 "nbformat_minor": 5
}
